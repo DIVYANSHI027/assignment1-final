{
  "nbformat": 4,
  "nbformat_minor": 0,
  "metadata": {
    "colab": {
      "provenance": []
    },
    "kernelspec": {
      "name": "python3",
      "display_name": "Python 3"
    },
    "language_info": {
      "name": "python"
    }
  },
  "cells": [
    {
      "cell_type": "markdown",
      "source": [
        "1. What is python and why is it popular?\n",
        "   - Python is a high level interpreted computer language known for its    simplicity in understanding it and also its versatality. It was created by Guido van Rossum.\n",
        "\n",
        "2. What is an interpreter in python?\n",
        "   - It is a program that reads and executes python code line by line.\n",
        "\n",
        "3. What are pre-defined keywords in python?  \n",
        "   - Pre- defined keywords are reserved words that have special meaning in\n",
        "   the language. eg: if is a keyword used for if statements.\n",
        "\n",
        "4. Can keywords be used as variable names?\n",
        "   - No,keywords cannot be used as variable names because keywords are reserved words in python language that have special meaning.\n",
        "\n",
        "5. What is mutability in python?\n",
        "   - Mutability is whether or not an object can be changed/modified after it is created.\n",
        "\n",
        "6. Why are lists mutable but tuples immutable?\n",
        "   - A list is mutable as it can be modified after it is created - whether to add or delete something. However, tuple is immutable object as it is fixed and cannot be changed.\n",
        "\n",
        "7. What is the difference between \"==\" and \"is\" operators in python?\n",
        "   - Both \"==\" and \"is\" are comparison operators used for different purpose.\n",
        "   - \"==\" refers to Value equality i.e it checks whether two variables have same value or not.\n",
        "   - \"is\" refers to identity equality i.e. it checks whether two variables refer to same object in memory.\n",
        "\n",
        "8. What are logical operators in python?\n",
        "   - They are used to combine conditional statements and return boolean valus - True/False. Python has three logical operator - and, or, not.\n",
        "\n",
        "9. What is type casting in python?\n",
        "   - It is the process of converting a value from one data type to another in python. It is of 2 types - implicit and explicit type casting.\n",
        "\n",
        "\n",
        "10. Difference between implicit and explicit typecasting?\n",
        "   - Implicit typecasting is done automatically by python. Explicit typecasting is done by built in fuunctions like tuple, list etc.\n",
        "\n",
        "\n",
        "11. What is the purpose of conditional statements in python?\n",
        "   - Conditional statements are used to make decisions in a program and makes it more dynamic.\n",
        "\n",
        "12. How does elif statement works?\n",
        "   - Elif means else if. It is a conditional statement that runs another condition if the previous one was FALSE.\n",
        "\n",
        "13.  What is the difference betweeen for and while loops?\n",
        "   - Both the loops are used for repeating tasks in different situations; for loop is used when number of iterations are known. While loop is used when iterations are unknown.\n",
        "\n",
        "14. Describe a scenario where while loop is more suitable than for loop.\n",
        "   - the scenario might be of user login attempt where with the use of while loop access will be granted only if the certain condition (here, right password) is entered.\n"
      ],
      "metadata": {
        "id": "dXdiGJiALZLg"
      }
    },
    {
      "cell_type": "code",
      "source": [
        "#Write a python program to print \"Hello, world!\"\n",
        "print(\"Hello, world!\")"
      ],
      "metadata": {
        "colab": {
          "base_uri": "https://localhost:8080/"
        },
        "id": "PY94_R7MaqKA",
        "outputId": "c92fccfc-1616-4d7b-d75a-fec39de16cb2"
      },
      "execution_count": 4,
      "outputs": [
        {
          "output_type": "stream",
          "name": "stdout",
          "text": [
            "Hello, world!\n"
          ]
        }
      ]
    },
    {
      "cell_type": "code",
      "source": [
        "#Write a python program that displays your name and age\n",
        "name = \"Divyanshi\"\n",
        "age = 18\n",
        "print(name, age)"
      ],
      "metadata": {
        "colab": {
          "base_uri": "https://localhost:8080/"
        },
        "id": "cmmhqeEQfSWD",
        "outputId": "61d60b32-404c-469e-dfc0-1a92d088866d"
      },
      "execution_count": 5,
      "outputs": [
        {
          "output_type": "stream",
          "name": "stdout",
          "text": [
            "Divyanshi 18\n"
          ]
        }
      ]
    },
    {
      "cell_type": "code",
      "source": [
        "#write code to print all predefined keywords in python using keyword library\n",
        "import keyword\n",
        "all_keywords = keyword.kwlist\n",
        "print(\"Python Keywords:\")\n",
        "for kw in all_keywords\n",
        " print(kw)"
      ],
      "metadata": {
        "colab": {
          "base_uri": "https://localhost:8080/",
          "height": 106
        },
        "id": "Qyxn9ZiugFex",
        "outputId": "b28045f4-3b4b-438a-dd58-7f04fca8db63"
      },
      "execution_count": 11,
      "outputs": [
        {
          "output_type": "error",
          "ename": "SyntaxError",
          "evalue": "expected ':' (ipython-input-11-4217012203.py, line 5)",
          "traceback": [
            "\u001b[0;36m  File \u001b[0;32m\"/tmp/ipython-input-11-4217012203.py\"\u001b[0;36m, line \u001b[0;32m5\u001b[0m\n\u001b[0;31m    for kw in all_keywords\u001b[0m\n\u001b[0m                          ^\u001b[0m\n\u001b[0;31mSyntaxError\u001b[0m\u001b[0;31m:\u001b[0m expected ':'\n"
          ]
        }
      ]
    },
    {
      "cell_type": "code",
      "source": [],
      "metadata": {
        "id": "xy2oIWgmju6m"
      },
      "execution_count": null,
      "outputs": []
    },
    {
      "cell_type": "code",
      "source": [
        "#check whether the given word is a keyword or not\n",
        "\n",
        "import keyword\n",
        "\n",
        "# Ask the user to enter a word\n",
        "word = input(\"Enter a word: \")\n",
        "\n",
        "# Check if the word is a Python keyword\n",
        "if keyword.iskeyword(word):\n",
        "    print(f\"✅ '{word}' is a Python keyword.\")\n",
        "else:\n",
        "    print(f\"❌ '{word}' is NOT a Python keyword.\")\n"
      ],
      "metadata": {
        "colab": {
          "base_uri": "https://localhost:8080/"
        },
        "id": "t8-ENz6FmT62",
        "outputId": "4f48ffa3-d77f-4ba7-e3ed-7ea8eeeec350"
      },
      "execution_count": 14,
      "outputs": [
        {
          "output_type": "stream",
          "name": "stdout",
          "text": [
            "Enter a word: and\n",
            "✅ 'and' is a Python keyword.\n"
          ]
        }
      ]
    },
    {
      "cell_type": "code",
      "source": [
        " #Create a list and tuple in Python, and demonstrate how attempting to change an element works differently for each\n",
        " # Creating a list\n",
        "my_list = [10, 20, 30]\n",
        "\n",
        "# Changing the second element (index 1)\n",
        "my_list[1] = 99\n",
        "\n",
        "print(\"Modified list:\", my_list)\n"
      ],
      "metadata": {
        "colab": {
          "base_uri": "https://localhost:8080/"
        },
        "id": "x27yHZX6mlvE",
        "outputId": "1033e6ed-8bc9-4e46-cecc-5150fc36e294"
      },
      "execution_count": 15,
      "outputs": [
        {
          "output_type": "stream",
          "name": "stdout",
          "text": [
            "Modified list: [10, 99, 30]\n"
          ]
        }
      ]
    },
    {
      "cell_type": "markdown",
      "source": [
        "the element was changed because lists are mutable\n"
      ],
      "metadata": {
        "id": "UGFPXL3boQY9"
      }
    },
    {
      "cell_type": "code",
      "source": [
        "# Creating a tuple\n",
        "my_tuple = (10, 20, 30)\n",
        "\n",
        "# Trying to change the second element\n",
        "my_tuple[1] = 99   # ❌\n"
      ],
      "metadata": {
        "colab": {
          "base_uri": "https://localhost:8080/",
          "height": 176
        },
        "id": "g7E2Jjkdocdm",
        "outputId": "43e96555-2175-4cef-8f79-dc6fc73c44c9"
      },
      "execution_count": 17,
      "outputs": [
        {
          "output_type": "error",
          "ename": "TypeError",
          "evalue": "'tuple' object does not support item assignment",
          "traceback": [
            "\u001b[0;31m---------------------------------------------------------------------------\u001b[0m",
            "\u001b[0;31mTypeError\u001b[0m                                 Traceback (most recent call last)",
            "\u001b[0;32m/tmp/ipython-input-17-3453087303.py\u001b[0m in \u001b[0;36m<cell line: 0>\u001b[0;34m()\u001b[0m\n\u001b[1;32m      3\u001b[0m \u001b[0;34m\u001b[0m\u001b[0m\n\u001b[1;32m      4\u001b[0m \u001b[0;31m# Trying to change the second element\u001b[0m\u001b[0;34m\u001b[0m\u001b[0;34m\u001b[0m\u001b[0m\n\u001b[0;32m----> 5\u001b[0;31m \u001b[0mmy_tuple\u001b[0m\u001b[0;34m[\u001b[0m\u001b[0;36m1\u001b[0m\u001b[0;34m]\u001b[0m \u001b[0;34m=\u001b[0m \u001b[0;36m99\u001b[0m   \u001b[0;31m# ❌\u001b[0m\u001b[0;34m\u001b[0m\u001b[0;34m\u001b[0m\u001b[0m\n\u001b[0m",
            "\u001b[0;31mTypeError\u001b[0m: 'tuple' object does not support item assignment"
          ]
        }
      ]
    },
    {
      "cell_type": "code",
      "source": [
        "#Write a function to demonstrate the behavior of mutable and immutable arguments.\n",
        "def modify_data(num, num_list):\n",
        "    # Try to change the integer (immutable)\n",
        "    num += 10\n",
        "\n",
        "    # Try to change the list (mutable)\n",
        "    num_list.append(100)\n",
        "\n",
        "    print(\"Inside function - num:\", num)\n",
        "    print(\"Inside function - num_list:\", num_list)\n",
        "\n",
        "# Main code\n",
        "x = 5\n",
        "my_list = [1, 2, 3]\n",
        "\n",
        "modify_data(x, my_list)\n",
        "\n",
        "print(\"Outside function - x:\", x)             # x is unchanged\n",
        "print(\"Outside function - my_list:\", my_list) # list is changed\n",
        "\n"
      ],
      "metadata": {
        "colab": {
          "base_uri": "https://localhost:8080/"
        },
        "id": "thesO9Sjopsj",
        "outputId": "c89d6fe3-c380-41b7-f73d-96d5397aa198"
      },
      "execution_count": 18,
      "outputs": [
        {
          "output_type": "stream",
          "name": "stdout",
          "text": [
            "Inside function - num: 15\n",
            "Inside function - num_list: [1, 2, 3, 100]\n",
            "Outside function - x: 5\n",
            "Outside function - my_list: [1, 2, 3, 100]\n"
          ]
        }
      ]
    },
    {
      "cell_type": "code",
      "source": [
        "# Write a program that performs basic arithmetic operations on two user-input numbers.\n",
        "a = 10\n",
        "b = 20\n",
        "result = a+b\n",
        "print(a+b)\n",
        "result = a*b\n",
        "print(a*b)\n",
        "result = b-a\n",
        "print(b-a)"
      ],
      "metadata": {
        "colab": {
          "base_uri": "https://localhost:8080/"
        },
        "id": "fPIGxBj5pBDJ",
        "outputId": "46aac1b7-cb16-480c-80cb-a7deb6658db0"
      },
      "execution_count": 19,
      "outputs": [
        {
          "output_type": "stream",
          "name": "stdout",
          "text": [
            "30\n",
            "200\n",
            "10\n"
          ]
        }
      ]
    },
    {
      "cell_type": "code",
      "source": [
        "#Write a program to demonstrate the use of logical operators\n",
        "# Get two numbers from the user\n",
        "a = int(input(\"Enter first number (a): \"))\n",
        "b = int(input(\"Enter second number (b): \"))\n",
        "\n",
        "# Demonstrate 'and' operator\n",
        "print(\"\\nLogical AND:\")\n",
        "if a > 0 and b > 0:\n",
        "    print(\"Both a and b are positive.\")\n",
        "else:\n",
        "    print(\"At least one of a or b is not positive.\")\n",
        "\n",
        "# Demonstrate 'or' operator\n",
        "print(\"\\nLogical OR:\")\n",
        "if a > 0 or b > 0:\n",
        "    print(\"At least one of a or b is positive.\")\n",
        "else:\n",
        "    print(\"Neither a nor b is positive.\")\n",
        "\n",
        "# Demonstrate 'not' operator\n",
        "print(\"\\nLogical NOT:\")\n",
        "if not (a < 0):\n",
        "    print(\"a is not negative.\")\n",
        "else:\n",
        "    print(\"a is negative.\")\n"
      ],
      "metadata": {
        "colab": {
          "base_uri": "https://localhost:8080/"
        },
        "id": "9MeRjeBdqfMa",
        "outputId": "5ade706a-aaf8-4afe-87da-2a38582547d3"
      },
      "execution_count": 21,
      "outputs": [
        {
          "output_type": "stream",
          "name": "stdout",
          "text": [
            "Enter first number (a): 5\n",
            "Enter second number (b): -3\n",
            "\n",
            "Logical AND:\n",
            "At least one of a or b is not positive.\n",
            "\n",
            "Logical OR:\n",
            "At least one of a or b is positive.\n",
            "\n",
            "Logical NOT:\n",
            "a is not negative.\n"
          ]
        }
      ]
    },
    {
      "cell_type": "code",
      "source": [
        " #Write a Python program to convert user input from string to integer, float, and boolean types\n",
        " # Take input from the user\n",
        "user_input = input(\"Enter a value: \")\n",
        "\n",
        "print(\"\\n--- Type Conversions ---\")\n",
        "\n",
        "# Convert to Integer\n",
        "try:\n",
        "    int_value = int(user_input)\n",
        "    print(\"Integer conversion successful:\")\n",
        "    print(\"Value:\", int_value, \"| Type:\", type(int_value))\n",
        "except ValueError:\n",
        "    print(\"❌ Cannot convert to Integer\")\n",
        "\n",
        "# Convert to Float\n",
        "try:\n",
        "    float_value = float(user_input)\n",
        "    print(\"Float conversion successful:\")\n",
        "    print(\"Value:\", float_value, \"| Type:\", type(float_value))\n",
        "except ValueError:\n",
        "    print(\"❌ Cannot convert to Float\")\n",
        "\n",
        "# Convert to Boolean\n",
        "bool_value = bool(user_input)\n",
        "print(\"Boolean conversion:\")\n",
        "print(\"Value:\", bool_value, \"| Type:\", type(bool_value))\n"
      ],
      "metadata": {
        "colab": {
          "base_uri": "https://localhost:8080/"
        },
        "id": "2-aCdsltrYk7",
        "outputId": "48edb396-d772-42ad-f1a1-5af132adefdc"
      },
      "execution_count": 22,
      "outputs": [
        {
          "output_type": "stream",
          "name": "stdout",
          "text": [
            "Enter a value: 42\n",
            "\n",
            "--- Type Conversions ---\n",
            "Integer conversion successful:\n",
            "Value: 42 | Type: <class 'int'>\n",
            "Float conversion successful:\n",
            "Value: 42.0 | Type: <class 'float'>\n",
            "Boolean conversion:\n",
            "Value: True | Type: <class 'bool'>\n"
          ]
        }
      ]
    },
    {
      "cell_type": "code",
      "source": [
        "#Write code to demonstrate type casting with list elements.\n",
        "# Sample list of strings\n",
        "str_list = [\"10\", \"20\", \"30\", \"0\", \"\", \"3.14\"]\n",
        "\n",
        "print(\"Original list:\", str_list)\n",
        "\n",
        "# Convert to integers\n",
        "int_list = []\n",
        "for item in str_list:\n",
        "    try:\n",
        "        int_list.append(int(item))\n",
        "    except ValueError:\n",
        "        int_list.append(\"Error\")  # Cannot convert (like \"\" or \"3.14\")\n",
        "\n",
        "print(\"\\nList converted to integers:\", int_list)\n",
        "\n",
        "# Convert to floats\n",
        "float_list = []\n",
        "for item in str_list:\n",
        "    try:\n",
        "        float_list.append(float(item))\n",
        "    except ValueError:\n",
        "        float_list.append(\"Error\")\n",
        "\n",
        "print(\"List converted to floats:\", float_list)\n",
        "\n",
        "# Convert to booleans\n",
        "bool_list = [bool(item) for item in str_list]\n",
        "print(\"List converted to booleans:\", bool_list)\n"
      ],
      "metadata": {
        "colab": {
          "base_uri": "https://localhost:8080/"
        },
        "id": "Ru5VyU2zsGyX",
        "outputId": "c7c99646-e26b-4643-aa6c-9644e43e8f8f"
      },
      "execution_count": 23,
      "outputs": [
        {
          "output_type": "stream",
          "name": "stdout",
          "text": [
            "Original list: ['10', '20', '30', '0', '', '3.14']\n",
            "\n",
            "List converted to integers: [10, 20, 30, 0, 'Error', 'Error']\n",
            "List converted to floats: [10.0, 20.0, 30.0, 0.0, 'Error', 3.14]\n",
            "List converted to booleans: [True, True, True, True, False, True]\n"
          ]
        }
      ]
    },
    {
      "cell_type": "code",
      "source": [
        "#Write a program that checks if a number is positive, negative, or zero\n",
        "# Get input from the user\n",
        "num = float(input(\"Enter a number: \"))\n",
        "\n",
        "# Check conditions\n",
        "if num > 0:\n",
        "    print(\"The number is positive.\")\n",
        "elif num < 0:\n",
        "    print(\"The number is negative.\")\n",
        "else:\n",
        "    print(\"The number is zero.\")\n"
      ],
      "metadata": {
        "colab": {
          "base_uri": "https://localhost:8080/"
        },
        "id": "DvkKkVVMseSi",
        "outputId": "facf5cc8-e349-410d-fd91-ea47636eaaf1"
      },
      "execution_count": 24,
      "outputs": [
        {
          "output_type": "stream",
          "name": "stdout",
          "text": [
            "Enter a number: 7\n",
            "The number is positive.\n"
          ]
        }
      ]
    },
    {
      "cell_type": "code",
      "source": [
        " #Write a for loop to print numbers from 1 to 10.\n",
        " for i in range(1, 11):\n",
        "    print(i)\n"
      ],
      "metadata": {
        "colab": {
          "base_uri": "https://localhost:8080/"
        },
        "id": "Rjx6yhars51J",
        "outputId": "b7b5131d-bc46-4339-ed5c-fdb883db2126"
      },
      "execution_count": 25,
      "outputs": [
        {
          "output_type": "stream",
          "name": "stdout",
          "text": [
            "1\n",
            "2\n",
            "3\n",
            "4\n",
            "5\n",
            "6\n",
            "7\n",
            "8\n",
            "9\n",
            "10\n"
          ]
        }
      ]
    },
    {
      "cell_type": "code",
      "source": [
        " #Write a Python program to find the sum of all even numbers between 1 and 50\n",
        " # Initialize sum\n",
        "even_sum = 0\n",
        "\n",
        "# Loop from 1 to 50\n",
        "for i in range(1, 51):\n",
        "    if i % 2 == 0:  # Check if the number is even\n",
        "        even_sum += i\n",
        "\n",
        "# Print the result\n",
        "print(\"Sum of even numbers from 1 to 50 is:\", even_sum)\n"
      ],
      "metadata": {
        "colab": {
          "base_uri": "https://localhost:8080/"
        },
        "id": "GR3PhkcatMA0",
        "outputId": "4ef72578-f3c7-45ae-906b-489d715f0599"
      },
      "execution_count": 26,
      "outputs": [
        {
          "output_type": "stream",
          "name": "stdout",
          "text": [
            "Sum of even numbers from 1 to 50 is: 650\n"
          ]
        }
      ]
    },
    {
      "cell_type": "code",
      "source": [
        " #Write a program to reverse a string using a while loop\n",
        " # Get input from the user\n",
        "text = input(\"Enter a string: \")\n",
        "\n",
        "# Initialize an empty result string and index\n",
        "reversed_text = \"\"\n",
        "index = len(text) - 1\n",
        "\n",
        "# Loop through the string in reverse\n",
        "while index >= 0:\n",
        "    reversed_text += text[index]\n",
        "    index -= 1\n",
        "\n",
        "# Print the reversed string\n",
        "print(\"Reversed string:\", reversed_text)\n"
      ],
      "metadata": {
        "colab": {
          "base_uri": "https://localhost:8080/"
        },
        "id": "wAetgTS-tcBv",
        "outputId": "45f01957-64e6-4988-f055-37199a0c5892"
      },
      "execution_count": 27,
      "outputs": [
        {
          "output_type": "stream",
          "name": "stdout",
          "text": [
            "Enter a string: python\n",
            "Reversed string: nohtyp\n"
          ]
        }
      ]
    },
    {
      "cell_type": "code",
      "source": [
        "#Write a Python program to calculate the factorial of a number provided by the user using a while loop\n",
        "# Get input from the user\n",
        "num = int(input(\"Enter a non-negative integer: \"))\n",
        "\n",
        "# Check for negative input\n",
        "if num < 0:\n",
        "    print(\"Factorial is not defined for negative numbers.\")\n",
        "else:\n",
        "    factorial = 1\n",
        "    i = 1\n",
        "\n",
        "    while i <= num:\n",
        "        factorial *= i\n",
        "        i += 1\n",
        "\n",
        "    print(f\"Factorial of {num} is: {factorial}\")\n"
      ],
      "metadata": {
        "colab": {
          "base_uri": "https://localhost:8080/"
        },
        "id": "JHAApV--to2O",
        "outputId": "e9ee0cc1-2da1-431d-9f71-0f7f90247cef"
      },
      "execution_count": 28,
      "outputs": [
        {
          "output_type": "stream",
          "name": "stdout",
          "text": [
            "Enter a non-negative integer: 5\n",
            "Factorial of 5 is: 120\n"
          ]
        }
      ]
    },
    {
      "cell_type": "code",
      "source": [],
      "metadata": {
        "id": "_59_tKmYuGH7"
      },
      "execution_count": null,
      "outputs": []
    },
    {
      "cell_type": "code",
      "source": [],
      "metadata": {
        "id": "cjk9t9nYqZCs"
      },
      "execution_count": null,
      "outputs": []
    },
    {
      "cell_type": "code",
      "source": [],
      "metadata": {
        "id": "F5C9nKuwohyV"
      },
      "execution_count": null,
      "outputs": []
    },
    {
      "cell_type": "code",
      "source": [],
      "metadata": {
        "id": "4c-2WDFyoMKC"
      },
      "execution_count": null,
      "outputs": []
    },
    {
      "cell_type": "code",
      "source": [],
      "metadata": {
        "id": "3BkFjt4RlzZz"
      },
      "execution_count": null,
      "outputs": []
    },
    {
      "cell_type": "code",
      "source": [],
      "metadata": {
        "id": "eXmpAXmOiva0"
      },
      "execution_count": null,
      "outputs": []
    },
    {
      "cell_type": "code",
      "source": [],
      "metadata": {
        "id": "GDX2_9yIikuB"
      },
      "execution_count": null,
      "outputs": []
    },
    {
      "cell_type": "code",
      "source": [],
      "metadata": {
        "id": "NDvBWmC2h3DM"
      },
      "execution_count": null,
      "outputs": []
    },
    {
      "cell_type": "code",
      "source": [],
      "metadata": {
        "id": "7eTeU6iHhLxu"
      },
      "execution_count": null,
      "outputs": []
    },
    {
      "cell_type": "code",
      "source": [],
      "metadata": {
        "id": "e-EJw3MofPK1"
      },
      "execution_count": null,
      "outputs": []
    },
    {
      "cell_type": "code",
      "source": [],
      "metadata": {
        "id": "KM9KP4o7ejb7"
      },
      "execution_count": null,
      "outputs": []
    },
    {
      "cell_type": "code",
      "source": [],
      "metadata": {
        "id": "m_3CngV4ebAB"
      },
      "execution_count": null,
      "outputs": []
    },
    {
      "cell_type": "code",
      "source": [],
      "metadata": {
        "id": "hUjYLOf_aqr_"
      },
      "execution_count": null,
      "outputs": []
    },
    {
      "cell_type": "code",
      "execution_count": null,
      "metadata": {
        "id": "LOCyISAdLTvf"
      },
      "outputs": [],
      "source": []
    }
  ]
}